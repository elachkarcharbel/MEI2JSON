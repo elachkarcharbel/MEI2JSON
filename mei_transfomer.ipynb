{
 "cells": [
  {
   "cell_type": "code",
   "execution_count": 8,
   "metadata": {},
   "outputs": [],
   "source": [
    "import os\n",
    "import rdflib\n",
    "import rdfextras\n",
    "import json\n",
    "import io"
   ]
  },
  {
   "cell_type": "code",
   "execution_count": 9,
   "metadata": {},
   "outputs": [
    {
     "name": "stdout",
     "output_type": "stream",
     "text": [
      "\u001b[0m\u001b[01;34mdatatset_journal\u001b[0m/     music2rdf-1.3.6.jar  res.txt           \u001b[01;34mtripliser\u001b[0m/\r\n",
      "\u001b[01;34mjson_results\u001b[0m/         \u001b[01;34mmusicowl-master\u001b[0m/     saxon9he.jar      xml2rdf_1.json\r\n",
      "\u001b[01;34mlegacy_json\u001b[0m/          \u001b[01;32mMusicPattern.xsd\u001b[0m*    \u001b[01;34mSaxonHE9-9-1-4J\u001b[0m/  \u001b[01;34mxml_docs\u001b[0m/\r\n",
      "legacy_pp.py          \u001b[01;34mmusicxml_docs\u001b[0m/       test_1.rdf        \u001b[01;34mxsl_files\u001b[0m/\r\n",
      "\u001b[34;42mmei_docs\u001b[0m/             proposed_pp.py       test_1.xml\r\n",
      "mei_transfomer.ipynb  \u001b[01;34mrdf_docs\u001b[0m/            \u001b[01;32mtransformer.sh\u001b[0m*\r\n"
     ]
    }
   ],
   "source": [
    "ls"
   ]
  },
  {
   "cell_type": "code",
   "execution_count": 10,
   "metadata": {},
   "outputs": [],
   "source": [
    "# input variables\n",
    "mei_directory = \"mei_docs/\"\n",
    "xml_directory = \"musicxml_docs/\"\n",
    "rdf_directory = \"rdf_docs/\"\n",
    "mei2xml_xslt =  \"xsl_files/musicpattern.xsl\"\n",
    "xml2rdf_xslt =  \"xsl_files/xml2rdf3.xsl\""
   ]
  },
  {
   "cell_type": "code",
   "execution_count": 11,
   "metadata": {},
   "outputs": [
    {
     "name": "stdout",
     "output_type": "stream",
     "text": [
      "xml_docs/mei2xml_1.xml\n",
      "xml_docs/mei2xml_2.xml\n",
      "xml_docs/mei2xml_3.xml\n",
      "xml_docs/mei2xml_4.xml\n",
      "xml_docs/mei2xml_5.xml\n",
      "xml_docs/mei2xml_6.xml\n",
      "xml_docs/mei2xml_7.xml\n",
      "xml_docs/mei2xml_8.xml\n",
      "xml_docs/mei2xml_9.xml\n",
      "xml_docs/mei2xml_10.xml\n",
      "xml_docs/mei2xml_11.xml\n",
      "xml_docs/mei2xml_12.xml\n",
      "xml_docs/mei2xml_13.xml\n",
      "xml_docs/mei2xml_14.xml\n",
      "xml_docs/mei2xml_15.xml\n",
      "xml_docs/mei2xml_16.xml\n",
      "xml_docs/mei2xml_17.xml\n",
      "xml_docs/mei2xml_18.xml\n",
      "xml_docs/mei2xml_19.xml\n",
      "xml_docs/mei2xml_20.xml\n"
     ]
    }
   ],
   "source": [
    "# pass mei files to transform them to xml\n",
    "i = 1\n",
    "for file in os.listdir(mei_directory):\n",
    "    if file.endswith('.mei'):\n",
    "     #print(os.path.join(mei_directory, file))\n",
    "        input_file = os.path.join(mei_directory, file)\n",
    "        xml_output = f'xml_docs/mei2xml_{i}.xml'\n",
    "        print(xml_output)\n",
    "     # transform mei files to xml through xslt \n",
    "        mei_to_xml = f'java -jar saxon9he.jar -s:{input_file} -xsl:{mei2xml_xslt} -o:{xml_output}'\n",
    "        os.system(mei_to_xml)\n",
    "        i = i+1"
   ]
  },
  {
   "cell_type": "code",
   "execution_count": 13,
   "metadata": {},
   "outputs": [],
   "source": [
    "# pass xml files to transform them to rdf\n",
    "j = 1\n",
    "for file in os.listdir(xml_directory):\n",
    "    if file.endswith('.xml'):\n",
    "        #print(os.path.join(mei_directory, file))\n",
    "        input_file = os.path.join(xml_directory, file)\n",
    "        rdf_output = f'rdf_docs/xml2rdf_{j}.rdf'\n",
    "        print(rdf_output)\n",
    "        # transform xml files to rdf through xslt\n",
    "        xml_to_rdf = f'java -jar saxon9he.jar -s:{input_file} -xsl:{xml2rdf_xslt} -o:{rdf_output}'\n",
    "        os.system(xml_to_rdf)\n",
    "        j = j+1"
   ]
  },
  {
   "cell_type": "code",
   "execution_count": 6,
   "metadata": {},
   "outputs": [],
   "source": [
    "#from rdflib import OWL, RDF, Namespace\n",
    "#MPOWL = Namespace(\"https://github.com/elachkarcharbel/MPOWL/blob/master/mpowl.owl\")\n",
    "#MPOWL.label"
   ]
  },
  {
   "cell_type": "code",
   "execution_count": 14,
   "metadata": {
    "scrolled": false
   },
   "outputs": [],
   "source": [
    "rdf_graph = rdflib.Graph()\n",
    "for x in range (0,21):\n",
    "    for file in os.listdir(rdf_directory):\n",
    "        if file.endswith(f'_{x}.rdf'):\n",
    "            input_file = os.path.join(rdf_directory, file)\n",
    "            first,second = input_file.split('.')\n",
    "            folder,filename = first.split('/')\n",
    "            rdf_graph.parse(input_file)\n",
    "           # print(rdf_graph.label)\n",
    "            query_result = rdf_graph.query(\n",
    "    \"\"\"PREFIX rdf: <http://www.w3.org/1999/02/22-rdf-syntax-ns#>\n",
    "    SELECT ?dur ?oct ?pname ?dot ?snr ?mnr ?accid ?rest\n",
    "        WHERE { \n",
    "                ?oct ?dot ?dur\n",
    "            }\n",
    "                \"\"\")\n",
    "            data = {}\n",
    "\n",
    "            for row in query_result:\n",
    "                #print(row)\n",
    "                if \"rdflib.term.Literal\" in  str(row):\n",
    "                    first,second = str(row[1]).split('score/')\n",
    "                    if \"/\" in second:\n",
    "                        measure,part,note,var2 = second.split('/')\n",
    "                        if measure not in data.keys():\n",
    "                            data[measure]={}\n",
    "                        if note not in data[measure].keys():\n",
    "                            data[measure][note]={}\n",
    "                        if var2 not in data[measure][note].keys():\n",
    "                            data[measure][note][var2]={}\n",
    "\n",
    "                        data[measure][note][var2]=row[0]\n",
    "\n",
    "\n",
    "\n",
    "\n",
    "            data2={}\n",
    "            data2[\"score\"]={}\n",
    "            for key in sorted(data.keys()):\n",
    "\n",
    "                for i in sorted(data[key].keys()):\n",
    "\n",
    "                    if key not in data2[\"score\"].keys():\n",
    "                        data2[\"score\"][key]={}\n",
    "                    if i not in data2[\"score\"][key].keys():\n",
    "                        data2[\"score\"][key][i]={}\n",
    "\n",
    "                    data2[\"score\"][key][i]=data[key][i]\n",
    "\n",
    "                    if 'oct' not in data[key][i] and len(data[key][i])==1 :\n",
    "                       # print(data[key][i])\n",
    "                        data[key][i]['rest'] = 'true'\n",
    "                      #  print(data[key][i])\n",
    "                      #  print(\"______________________\")\n",
    "            #print(\"***\",data2['score']['measure'].keys())\n",
    "\n",
    "            json_res = json.dumps(data2, indent=4, sort_keys=True)\n",
    "            with io.open(f'json_results/meires_{x}.json', 'w') as db_file:\n",
    "                db_file.write(json_res)"
   ]
  },
  {
   "cell_type": "code",
   "execution_count": null,
   "metadata": {},
   "outputs": [],
   "source": []
  }
 ],
 "metadata": {
  "kernelspec": {
   "display_name": "Python 3",
   "language": "python",
   "name": "python3"
  },
  "language_info": {
   "codemirror_mode": {
    "name": "ipython",
    "version": 3
   },
   "file_extension": ".py",
   "mimetype": "text/x-python",
   "name": "python",
   "nbconvert_exporter": "python",
   "pygments_lexer": "ipython3",
   "version": "3.6.9"
  }
 },
 "nbformat": 4,
 "nbformat_minor": 2
}
